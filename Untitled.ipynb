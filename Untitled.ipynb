{
 "cells": [
  {
   "cell_type": "code",
   "execution_count": 1,
   "id": "b980960f",
   "metadata": {},
   "outputs": [],
   "source": [
    "import os\n",
    "import json\n",
    "import math\n",
    "import time\n",
    "import numpy"
   ]
  },
  {
   "cell_type": "code",
   "execution_count": 2,
   "id": "c34bf32c",
   "metadata": {},
   "outputs": [],
   "source": [
    "from networkx import karate_club_graph"
   ]
  },
  {
   "cell_type": "code",
   "execution_count": 3,
   "id": "f5065760",
   "metadata": {},
   "outputs": [],
   "source": [
    "import torch\n",
    "import torch.nn as nn\n",
    "import torch.nn.functional as F\n",
    "import torch.utils.data as data\n",
    "import torch.optim as optimy\n",
    "import torch_geometric.nn"
   ]
  },
  {
   "cell_type": "code",
   "execution_count": 4,
   "id": "b7402e8b",
   "metadata": {},
   "outputs": [],
   "source": [
    "from torch_geometric.datasets import TUDataset\n",
    "from torch_geometric.loader import DataLoader"
   ]
  },
  {
   "cell_type": "code",
   "execution_count": 5,
   "id": "7e1c7c26",
   "metadata": {},
   "outputs": [],
   "source": [
    "dataset = TUDataset(root='/tmp/ENZYMES', name='ENZYMES', use_node_attr=True)\n",
    "loader = DataLoader(dataset, batch_size=32, shuffle=True)"
   ]
  },
  {
   "cell_type": "code",
   "execution_count": 6,
   "id": "75803fd6",
   "metadata": {},
   "outputs": [
    {
     "name": "stdout",
     "output_type": "stream",
     "text": [
      "DataBatch(edge_index=[2, 4526], x=[1214, 21], y=[32], batch=[1214], ptr=[33])\n",
      "DataBatch(edge_index=[2, 3572], x=[963, 21], y=[32], batch=[963], ptr=[33])\n",
      "DataBatch(edge_index=[2, 4158], x=[1105, 21], y=[32], batch=[1105], ptr=[33])\n",
      "DataBatch(edge_index=[2, 4174], x=[1133, 21], y=[32], batch=[1133], ptr=[33])\n",
      "DataBatch(edge_index=[2, 3588], x=[951, 21], y=[32], batch=[951], ptr=[33])\n",
      "DataBatch(edge_index=[2, 3972], x=[1003, 21], y=[32], batch=[1003], ptr=[33])\n",
      "DataBatch(edge_index=[2, 3874], x=[1007, 21], y=[32], batch=[1007], ptr=[33])\n",
      "DataBatch(edge_index=[2, 3912], x=[1003, 21], y=[32], batch=[1003], ptr=[33])\n",
      "DataBatch(edge_index=[2, 3962], x=[1048, 21], y=[32], batch=[1048], ptr=[33])\n",
      "DataBatch(edge_index=[2, 4004], x=[1074, 21], y=[32], batch=[1074], ptr=[33])\n",
      "DataBatch(edge_index=[2, 4162], x=[1151, 21], y=[32], batch=[1151], ptr=[33])\n",
      "DataBatch(edge_index=[2, 4154], x=[1089, 21], y=[32], batch=[1089], ptr=[33])\n",
      "DataBatch(edge_index=[2, 4084], x=[1040, 21], y=[32], batch=[1040], ptr=[33])\n",
      "DataBatch(edge_index=[2, 3980], x=[1019, 21], y=[32], batch=[1019], ptr=[33])\n",
      "DataBatch(edge_index=[2, 4038], x=[1099, 21], y=[32], batch=[1099], ptr=[33])\n",
      "DataBatch(edge_index=[2, 4122], x=[1043, 21], y=[32], batch=[1043], ptr=[33])\n",
      "DataBatch(edge_index=[2, 4086], x=[1060, 21], y=[32], batch=[1060], ptr=[33])\n",
      "DataBatch(edge_index=[2, 3244], x=[831, 21], y=[32], batch=[831], ptr=[33])\n",
      "DataBatch(edge_index=[2, 2952], x=[747, 21], y=[24], batch=[747], ptr=[25])\n"
     ]
    }
   ],
   "source": [
    "for batch in loader:\n",
    "    print(batch)"
   ]
  },
  {
   "cell_type": "code",
   "execution_count": 7,
   "id": "db3b020f",
   "metadata": {},
   "outputs": [],
   "source": [
    "import torch\n",
    "import torch.nn.functional as F\n",
    "from torch_geometric.nn import GCNConv"
   ]
  },
  {
   "cell_type": "code",
   "execution_count": 12,
   "id": "b51a0563",
   "metadata": {},
   "outputs": [],
   "source": [
    "import torch\n",
    "import torch.nn.functional as F\n",
    "from torch_geometric.nn import GCNConv\n",
    "\n",
    "class GCN(nn.Module):\n",
    "    def __init__(self):\n",
    "        super().__init__()\n",
    "        self.conv1 = GCNConv(dataset.num_node_features, 16)\n",
    "        self.conv2 = GCNConv(16, dataset.num_classes)\n",
    "\n",
    "    def forward(self, data):\n",
    "        x, edge_index = data.x, data.edge_index\n",
    "\n",
    "        x = self.conv1(x, edge_index)\n",
    "        x = F.relu(x)\n",
    "        x = F.dropout(x, training=self.training)\n",
    "        x = self.conv2(x, edge_index)\n",
    "\n",
    "        return F.log_softmax(x, dim=1)"
   ]
  },
  {
   "cell_type": "code",
   "execution_count": 17,
   "id": "4be62529",
   "metadata": {},
   "outputs": [],
   "source": [
    "device = torch.device('cuda' if torch.cuda.is_available() else 'cpu')\n",
    "model = GCN().to(device)\n",
    "data = dataset[0].to(device)\n",
    "optimizer = torch.optim.Adam(model.parameters(), lr=0.01, weight_decay=5e-4)\n",
    "\n",
    "model.train()\n",
    "for epoch in range(200):\n",
    "    optimizer.zero_grad()\n",
    "    out = model(data)\n",
    "    #loss = F.nll_loss(out[data.train_mask], data.y[data.train_mask])\n",
    "    #loss.backward()\n",
    "    optimizer.step()\n",
    "    "
   ]
  },
  {
   "cell_type": "code",
   "execution_count": null,
   "id": "adb3ac20",
   "metadata": {},
   "outputs": [],
   "source": []
  },
  {
   "cell_type": "code",
   "execution_count": null,
   "id": "cf9ff0ea",
   "metadata": {},
   "outputs": [],
   "source": []
  }
 ],
 "metadata": {
  "kernelspec": {
   "display_name": "Python 3 (ipykernel)",
   "language": "python",
   "name": "python3"
  },
  "language_info": {
   "codemirror_mode": {
    "name": "ipython",
    "version": 3
   },
   "file_extension": ".py",
   "mimetype": "text/x-python",
   "name": "python",
   "nbconvert_exporter": "python",
   "pygments_lexer": "ipython3",
   "version": "3.11.4"
  }
 },
 "nbformat": 4,
 "nbformat_minor": 5
}
